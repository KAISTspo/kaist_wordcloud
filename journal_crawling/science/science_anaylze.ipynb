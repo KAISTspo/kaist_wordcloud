{
 "metadata": {
  "language_info": {
   "codemirror_mode": {
    "name": "ipython",
    "version": 3
   },
   "file_extension": ".py",
   "mimetype": "text/x-python",
   "name": "python",
   "nbconvert_exporter": "python",
   "pygments_lexer": "ipython3",
   "version": "3.6.12-final"
  },
  "orig_nbformat": 2,
  "kernelspec": {
   "name": "Python 3.6.12 64-bit ('pytorch-CycleGAN-and-pix2pix': conda)",
   "display_name": "Python 3.6.12 64-bit ('pytorch-CycleGAN-and-pix2pix': conda)",
   "metadata": {
    "interpreter": {
     "hash": "4a65428369c2482fef3eeb880d3c90cbbd7b2b2d86e9d23bc2ecc7eb760c1319"
    }
   }
  }
 },
 "nbformat": 4,
 "nbformat_minor": 2,
 "cells": [
  {
   "cell_type": "code",
   "execution_count": 7,
   "metadata": {},
   "outputs": [],
   "source": [
    "import requests\n",
    "from bs4 import BeautifulSoup as bs\n",
    "from selenium import webdriver\n",
    "from selenium.webdriver.support.ui import WebDriverWait\n",
    "from selenium.webdriver.common.by import By\n",
    "from selenium.webdriver.support import expected_conditions as EC\n",
    "import pandas as pd\n",
    "import re"
   ]
  },
  {
   "cell_type": "code",
   "execution_count": 4,
   "metadata": {
    "tags": []
   },
   "outputs": [
    {
     "output_type": "stream",
     "name": "stdout",
     "text": [
      "Whole post num : 52\n"
     ]
    }
   ],
   "source": [
    "# science\n",
    "urls = []\n",
    "# url 변화하는거 적당히 보고 알아서 잘 해야됨. 페이지 단위로 넘어가는게 아니라면 selenium 써야할 수도 있음.\n",
    "url = 'https://search.sciencemag.org/?searchTerm=kaist&order=newest&limit=textFields&pageSize=100&startDate=2015-01-01&&'\n",
    "browser = webdriver.Chrome('../../chromedriver_win32/chromedriver.exe')\n",
    "browser.get(url)\n",
    "timeout = 30\n",
    "try:\n",
    "    element_present = EC.presence_of_element_located((By.CLASS_NAME, 'media__headline'))\n",
    "    WebDriverWait(browser, timeout).until(element_present)\n",
    "except Exception as e :\n",
    "    print(e)\n",
    "    print(\"Timed out waiting for page to load\")\n",
    "html = browser.page_source\n",
    "soup = bs(html, \"html.parser\")\n",
    "elements = soup.select('.media__headline a[href]')\n",
    "for element in elements:\n",
    "    link = element.attrs['href']\n",
    "    urls.append(link)\n",
    "browser.quit()\n",
    "\n",
    "print('Whole post num : {}'.format(len(urls)))\n"
   ]
  },
  {
   "cell_type": "code",
   "execution_count": 8,
   "metadata": {
    "tags": []
   },
   "outputs": [
    {
     "output_type": "stream",
     "name": "stdout",
     "text": [
      "0\n",
      "10\n",
      "20\n",
      "30\n",
      "Highprecision monitoring of electrophysiological signals with high spatial and temporal resolutions is one of the most important subjects for elucidating physiology functions Recently ultraflexible multielectrode arrays MEAs have been fabricated to establish conformal contacts with the surface of organs and to measure propagation of electrophysiological signals with high spatialtemporal resolution; however plastic substrates have high Young’s modulus causing difficulties in creating appropriate stretchability and blood compatibility for applying them on the dynamically moving and surgical bleeding surface of the heart Here we have successfully fabricated an active MEA that simultaneously achieves nonthrombogenicity stretchability and stability which allows longterm electrocardiographic ECG monitoring of the dynamically moving hearts of rats even with capillary bleeding Because of the active data readout the measured ECG signals exhibit a high signaltonoise ratio of 52 dB The novel stretchable MEA is carefully designed using stateoftheart engineering techniques by combining extraordinarily high gain organic electrochemical transistors processed on microgrid substrates and a coating of poly3methoxypropyl acrylate which exhibits significant antithrombotic properties while maintaining excellent ionic conductivity Nonthrombogenic, stretchable, active multielectrode array for electroanatomical mapping\n",
      "Both high static repellency and pressure resistance are critical to achieving a highperformance omniphobic surface The cuticles of springtails have both of these features which result from their hierarchical structure composed of primary doubly reentrant nanostructures on secondary microgrooves Despite intensive efforts none of the previous studies that were inspired by the springtail were able to simultaneously achieve both high static repellency and pressure resistance because of a general tradeoff between these characteristics We demonstrate for the first time a springtailinspired superomniphobic surface displaying both features by fabricating a hierarchical system consisting of serifT–shaped nanostructures on microscale wrinkles overcoming previous limitations Our biomimetic strategy yielded a surface showing high repellency to diverse liquids from water to ethanol with a contact angle above 150° Simultaneously the surface was able to endure extreme pressure resulting from the impacts of drops of water and of ethylene glycol with We  200 and of ethanol with We  53 which is the highest pressure resistance ever reported Overall the omniphobicity of our springtailinspired fabricated system was found to be superior to that of the natural springtail cuticle itself Springtail-inspired superomniphobic surface with extreme pressure resistance\n",
      "40\n",
      "50\n"
     ]
    }
   ],
   "source": [
    "titles = []\n",
    "contents = []\n",
    "for i,url in enumerate(urls):\n",
    "    response = requests.get(url)\n",
    "    html = response.text\n",
    "    soup = bs(html,'html.parser')\n",
    "    try: \n",
    "        response = requests.get(url)    \n",
    "        html = response.text\n",
    "        soup = bs(html,'html.parser')\n",
    "        content = soup.select('.abstract p')[0].get_text() # select 안에 본문에 해당하는 id 값을 찾아서 넣어주면 됨.\n",
    "        content = re.sub('[-=+,#/\\?:^$.@*\\\"※~&%ㆍ!』\\\\‘|\\(\\)\\[\\]\\<\\>`\\'…》]', '', content)\n",
    "        title = soup.select('.highwire-cite-title')[0].get_text()\n",
    "    except Exception as e: \n",
    "        print(content,title)\n",
    "    contents.append(content)\n",
    "    titles.append(title)\n",
    "    if i%10 == 0:\n",
    "        print(i)\n"
   ]
  },
  {
   "cell_type": "code",
   "execution_count": 16,
   "metadata": {},
   "outputs": [],
   "source": [
    "data = {\"title\" : titles,\"content\": contents,\"url\": urls}\n",
    "df = pd.DataFrame(data)\n",
    "df['content'] =df['content'].map(lambda x : x.replace('\\r',\"\"))\n",
    "df.to_pickle('science_post.pkl')\n",
    "df.to_csv('kaist_science.csv',encoding='utf-8-sig')"
   ]
  },
  {
   "cell_type": "code",
   "execution_count": 12,
   "metadata": {},
   "outputs": [],
   "source": []
  },
  {
   "cell_type": "code",
   "execution_count": null,
   "metadata": {},
   "outputs": [],
   "source": []
  }
 ]
}