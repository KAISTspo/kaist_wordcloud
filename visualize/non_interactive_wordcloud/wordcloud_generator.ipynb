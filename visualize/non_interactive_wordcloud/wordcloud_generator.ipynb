{
 "cells": [
  {
   "cell_type": "code",
   "execution_count": 1,
   "metadata": {},
   "outputs": [],
   "source": [
    "from PIL import Image\n",
    "import numpy as np\n",
    "from wordcloud import WordCloud\n",
    "import matplotlib.pyplot as plt\n",
    "import json\n",
    "import os"
   ]
  },
  {
   "cell_type": "code",
   "execution_count": 2,
   "metadata": {},
   "outputs": [],
   "source": [
    "class SimpleGroupedColorFunc(object):\n",
    "    def __init__(self, color_to_words, default_color):\n",
    "        self.word_to_color = {word: color\n",
    "                              for (color, words) in color_to_words.items()\n",
    "                              for word in words}\n",
    "\n",
    "        self.default_color = default_color\n",
    "\n",
    "    def __call__(self, word, **kwargs):\n",
    "        return self.word_to_color.get(word, self.default_color)"
   ]
  },
  {
   "cell_type": "code",
   "execution_count": 3,
   "metadata": {},
   "outputs": [],
   "source": [
    "font_path = 'BlackHanSans-Regular.ttf'\n",
    "circle_mask = np.array(Image.open(\"circle.png\"))\n",
    "kaist_mask = np.array(Image.open('KAIST.JPG'))"
   ]
  },
  {
   "cell_type": "code",
   "execution_count": 4,
   "metadata": {},
   "outputs": [],
   "source": [
    "wc_circle = WordCloud(font_path=font_path, background_color=\"white\", mask=circle_mask, width=800, height=800)\n",
    "wc_kaist = WordCloud(font_path=font_path, background_color=\"white\", mask=kaist_mask, width=1000, height=500)"
   ]
  },
  {
   "cell_type": "code",
   "execution_count": 5,
   "metadata": {},
   "outputs": [],
   "source": [
    "for file in os.listdir('json_file'):\n",
    "    words = {}\n",
    "    file_dir = 'json_file/' + file\n",
    "    with open(file_dir, encoding='utf-8-sig') as json_file:\n",
    "        json_data = json.load(json_file)\n",
    "        for word in json_data:\n",
    "            keyword = word['keyword']\n",
    "            score = word['score']\n",
    "            words[keyword] = score\n",
    "    words_sorted = sorted(words, key= lambda x: words[x], reverse=True)\n",
    "    color_to_words = {'coral': [], 'pink': []}\n",
    "    for i, word in enumerate(words_sorted):\n",
    "        if i<=3:\n",
    "            color_to_words['coral'].append(word)\n",
    "        elif i<=10:\n",
    "            color_to_words['pink'].append(word)\n",
    "        else:\n",
    "            break\n",
    "    simple_color_func = SimpleGroupedColorFunc(color_to_words, 'skyblue')\n",
    "    circle = wc_circle.generate_from_frequencies(words)\n",
    "    kaist = wc_kaist.generate_from_frequencies(words)\n",
    "    circle.recolor(color_func=simple_color_func)\n",
    "    kaist.recolor(color_func=simple_color_func)\n",
    "    fig = plt.figure(figsize=(10, 10))\n",
    "    plt.axis(\"off\")\n",
    "    if file.split('_')[0] == \"korean\":\n",
    "        directory = 'wordcloud/korean/'\n",
    "    elif file.split('_')[0] == \"english\":\n",
    "        directory = 'wordcloud/english/'\n",
    "    else:\n",
    "        directory = 'wordcloud/journal/'\n",
    "    plt.imshow(circle, interpolation=\"bilinear\")\n",
    "    fig.savefig(directory+file+'_circle.png')\n",
    "    plt.imshow(kaist, interpolation=\"bilinear\")\n",
    "    fig.savefig(directory+file+'_kaist.png')\n",
    "    plt.close(fig)"
   ]
  },
  {
   "cell_type": "code",
   "execution_count": null,
   "metadata": {},
   "outputs": [],
   "source": []
  }
 ],
 "metadata": {
  "kernelspec": {
   "display_name": "Python 3",
   "language": "python",
   "name": "python3"
  },
  "language_info": {
   "codemirror_mode": {
    "name": "ipython",
    "version": 3
   },
   "file_extension": ".py",
   "mimetype": "text/x-python",
   "name": "python",
   "nbconvert_exporter": "python",
   "pygments_lexer": "ipython3",
   "version": "3.8.3"
  }
 },
 "nbformat": 4,
 "nbformat_minor": 4
}
